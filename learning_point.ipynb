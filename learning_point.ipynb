{
 "cells": [
  {
   "cell_type": "code",
   "execution_count": 2,
   "metadata": {},
   "outputs": [],
   "source": [
    "import pandas as pd"
   ]
  },
  {
   "cell_type": "code",
   "execution_count": 6,
   "metadata": {},
   "outputs": [],
   "source": [
    "df = pd.read_csv('dataset_3363_4.txt', sep=';', names=['Фамилия','Математика', 'Физика', 'Русский язык'])"
   ]
  },
  {
   "cell_type": "code",
   "execution_count": 7,
   "metadata": {},
   "outputs": [
    {
     "data": {
      "text/html": [
       "<div>\n",
       "<style>\n",
       "    .dataframe thead tr:only-child th {\n",
       "        text-align: right;\n",
       "    }\n",
       "\n",
       "    .dataframe thead th {\n",
       "        text-align: left;\n",
       "    }\n",
       "\n",
       "    .dataframe tbody tr th {\n",
       "        vertical-align: top;\n",
       "    }\n",
       "</style>\n",
       "<table border=\"1\" class=\"dataframe\">\n",
       "  <thead>\n",
       "    <tr style=\"text-align: right;\">\n",
       "      <th></th>\n",
       "      <th>Фамилия</th>\n",
       "      <th>Математика</th>\n",
       "      <th>Физика</th>\n",
       "      <th>Русский язык</th>\n",
       "    </tr>\n",
       "  </thead>\n",
       "  <tbody>\n",
       "    <tr>\n",
       "      <th>0</th>\n",
       "      <td>Larkins</td>\n",
       "      <td>68</td>\n",
       "      <td>46</td>\n",
       "      <td>73</td>\n",
       "    </tr>\n",
       "    <tr>\n",
       "      <th>1</th>\n",
       "      <td>Parson</td>\n",
       "      <td>52</td>\n",
       "      <td>38</td>\n",
       "      <td>39</td>\n",
       "    </tr>\n",
       "    <tr>\n",
       "      <th>2</th>\n",
       "      <td>Keat</td>\n",
       "      <td>82</td>\n",
       "      <td>64</td>\n",
       "      <td>76</td>\n",
       "    </tr>\n",
       "    <tr>\n",
       "      <th>3</th>\n",
       "      <td>Gill</td>\n",
       "      <td>82</td>\n",
       "      <td>62</td>\n",
       "      <td>28</td>\n",
       "    </tr>\n",
       "    <tr>\n",
       "      <th>4</th>\n",
       "      <td>Simon</td>\n",
       "      <td>50</td>\n",
       "      <td>36</td>\n",
       "      <td>67</td>\n",
       "    </tr>\n",
       "  </tbody>\n",
       "</table>\n",
       "</div>"
      ],
      "text/plain": [
       "   Фамилия  Математика  Физика  Русский язык\n",
       "0  Larkins          68      46            73\n",
       "1   Parson          52      38            39\n",
       "2     Keat          82      64            76\n",
       "3     Gill          82      62            28\n",
       "4    Simon          50      36            67"
      ]
     },
     "execution_count": 7,
     "metadata": {},
     "output_type": "execute_result"
    }
   ],
   "source": [
    "df.head()"
   ]
  },
  {
   "cell_type": "code",
   "execution_count": 18,
   "metadata": {},
   "outputs": [
    {
     "data": {
      "text/plain": [
       "63.577319587628864"
      ]
     },
     "execution_count": 18,
     "metadata": {},
     "output_type": "execute_result"
    }
   ],
   "source": [
    "df['Математика'].mean()"
   ]
  },
  {
   "cell_type": "code",
   "execution_count": 9,
   "metadata": {},
   "outputs": [
    {
     "data": {
      "text/plain": [
       "64.0618556701031"
      ]
     },
     "execution_count": 9,
     "metadata": {},
     "output_type": "execute_result"
    }
   ],
   "source": [
    "df['Физика'].mean()"
   ]
  },
  {
   "cell_type": "code",
   "execution_count": 11,
   "metadata": {},
   "outputs": [
    {
     "data": {
      "text/plain": [
       "62.510309278350519"
      ]
     },
     "execution_count": 11,
     "metadata": {},
     "output_type": "execute_result"
    }
   ],
   "source": [
    "df['Русский язык'].mean()"
   ]
  },
  {
   "cell_type": "code",
   "execution_count": 15,
   "metadata": {},
   "outputs": [
    {
     "name": "stdout",
     "output_type": "stream",
     "text": [
      "<class 'pandas.core.frame.DataFrame'>\n",
      "RangeIndex: 194 entries, 0 to 193\n",
      "Data columns (total 4 columns):\n",
      "Фамилия         194 non-null object\n",
      "Математика      194 non-null int64\n",
      "Физика          194 non-null int64\n",
      "Русский язык    194 non-null int64\n",
      "dtypes: int64(3), object(1)\n",
      "memory usage: 6.1+ KB\n"
     ]
    }
   ],
   "source": [
    "df.info()"
   ]
  },
  {
   "cell_type": "code",
   "execution_count": 20,
   "metadata": {},
   "outputs": [],
   "source": [
    "df['Среднее ученика'] = (df['Математика'] + df['Физика'] + df['Русский язык']) / 3"
   ]
  },
  {
   "cell_type": "code",
   "execution_count": 24,
   "metadata": {},
   "outputs": [
    {
     "name": "stdout",
     "output_type": "stream",
     "text": [
      "0      62.333333\n",
      "1      43.000000\n",
      "2      74.000000\n",
      "3      57.333333\n",
      "4      51.000000\n",
      "5      55.000000\n",
      "6      42.333333\n",
      "7      41.000000\n",
      "8      55.333333\n",
      "9      37.666667\n",
      "10     69.000000\n",
      "11     57.000000\n",
      "12     85.000000\n",
      "13     64.000000\n",
      "14     47.333333\n",
      "15     57.666667\n",
      "16     67.333333\n",
      "17     45.666667\n",
      "18     73.333333\n",
      "19     82.333333\n",
      "20     63.333333\n",
      "21     72.000000\n",
      "22     76.000000\n",
      "23     73.000000\n",
      "24     38.000000\n",
      "25     73.333333\n",
      "26     56.000000\n",
      "27     61.666667\n",
      "28     72.000000\n",
      "29     62.000000\n",
      "         ...    \n",
      "164    49.666667\n",
      "165    52.333333\n",
      "166    54.666667\n",
      "167    80.666667\n",
      "168    60.666667\n",
      "169    73.666667\n",
      "170    49.333333\n",
      "171    73.333333\n",
      "172    60.333333\n",
      "173    69.333333\n",
      "174    60.666667\n",
      "175    42.666667\n",
      "176    56.333333\n",
      "177    80.000000\n",
      "178    61.333333\n",
      "179    40.333333\n",
      "180    54.333333\n",
      "181    66.000000\n",
      "182    70.666667\n",
      "183    51.666667\n",
      "184    74.333333\n",
      "185    56.666667\n",
      "186    63.333333\n",
      "187    80.666667\n",
      "188    58.666667\n",
      "189    54.333333\n",
      "190    72.666667\n",
      "191    73.000000\n",
      "192    84.333333\n",
      "193    70.666667\n",
      "Name: Среднее ученика, Length: 194, dtype: float64\n"
     ]
    }
   ],
   "source": [
    "mean_learn = df['Среднее ученика']\n",
    "print(mean_learn)"
   ]
  },
  {
   "cell_type": "code",
   "execution_count": 31,
   "metadata": {},
   "outputs": [],
   "source": [
    "with open('result.txt', 'w') as file:\n",
    "    for value in mean_learn:\n",
    "        file.write(str(value)+'\\n')"
   ]
  }
 ],
 "metadata": {
  "kernelspec": {
   "display_name": "Python 3",
   "language": "python",
   "name": "python3"
  },
  "language_info": {
   "codemirror_mode": {
    "name": "ipython",
    "version": 3
   },
   "file_extension": ".py",
   "mimetype": "text/x-python",
   "name": "python",
   "nbconvert_exporter": "python",
   "pygments_lexer": "ipython3",
   "version": "3.5.3"
  }
 },
 "nbformat": 4,
 "nbformat_minor": 2
}
